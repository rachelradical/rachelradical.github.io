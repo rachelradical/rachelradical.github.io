{
  "nbformat": 4,
  "nbformat_minor": 0,
  "metadata": {
    "colab": {
      "provenance": []
    },
    "kernelspec": {
      "name": "python3",
      "display_name": "Python 3"
    },
    "language_info": {
      "name": "python"
    }
  },
  "cells": [
    {
      "cell_type": "code",
      "source": [
        "import pandas as pd\n",
        "import numpy as np\n",
        "import matplotlib.pyplot as plt\n",
        "from scipy import stats\n",
        "\n",
        "# Load the dataset\n",
        "df = pd.read_csv('../data/barcode_scans.csv')\n",
        "\n",
        "# Convert date column to datetime for easier analysis\n",
        "df['date'] = pd.to_datetime(df['date'])\n",
        "\n",
        "# Check the first few rows\n",
        "df.head()\n"
      ],
      "metadata": {
        "id": "d5tyRALIJXWU"
      },
      "execution_count": null,
      "outputs": []
    },
    {
      "cell_type": "code",
      "source": [
        "# Calculate Z-scores for scan counts\n",
        "df['z_score'] = stats.zscore(df['scan_count'])\n",
        "\n",
        "# Define anomaly threshold (anything >3 or <-3 is unusual)\n",
        "df['anomaly'] = df['z_score'].apply(lambda x: abs(x) > 3)\n",
        "\n",
        "# Display detected anomalies\n",
        "anomalies = df[df['anomaly']]\n",
        "print(f\"✅ Detected {len(anomalies)} anomalies!\")\n",
        "print(anomalies.head())"
      ],
      "metadata": {
        "id": "gD86iMkILC44"
      },
      "execution_count": null,
      "outputs": []
    },
    {
      "cell_type": "code",
      "execution_count": null,
      "metadata": {
        "id": "LUoDts7q6Gw2"
      },
      "outputs": [],
      "source": [
        "plt.figure(figsize=(12,6))\n",
        "plt.plot(df.index, df['scan_count'], label='Scan Count', color='blue')\n",
        "plt.scatter(anomalies.index, anomalies['scan_count'], color='red', label='Anomalies', marker='o', s=100)\n",
        "plt.xlabel('Row Index')\n",
        "plt.ylabel('Scan Count')\n",
        "plt.title('Barcode Scan Counts with Detected Anomalies')\n",
        "plt.legend()\n",
        "plt.show()"
      ]
    },
    {
      "cell_type": "code",
      "source": [
        "# Group anomalies by location & device\n",
        "anomaly_summary = anomalies.groupby(['location', 'device_type']).agg({\n",
        "    'scan_count': ['mean', 'max', 'count']\n",
        "}).reset_index()\n",
        "\n",
        "# Rename columns for readability\n",
        "anomaly_summary.columns = ['location', 'device_type', 'avg_scan_count', 'max_scan_count', 'anomaly_count']\n",
        "\n",
        "# Sort by most frequent anomalies\n",
        "anomaly_summary = anomaly_summary.sort_values(by='anomaly_count', ascending=False)\n",
        "\n",
        "print(\"📌 Locations & Devices with Most Anomalies:\")\n",
        "print(anomaly_summary.head(5))"
      ],
      "metadata": {
        "id": "GT8s8yMOLMdG"
      },
      "execution_count": null,
      "outputs": []
    },
    {
      "cell_type": "code",
      "source": [
        "# Save anomalies for the AI storyteller\n",
        "anomalies.to_csv(\"../data/detected_anomalies.csv\", index=False)\n",
        "\n",
        "print(\"✅ Anomaly detection complete! Data saved for storytelling.\")"
      ],
      "metadata": {
        "id": "QoIr1qrQLV44"
      },
      "execution_count": null,
      "outputs": []
    }
  ]
}