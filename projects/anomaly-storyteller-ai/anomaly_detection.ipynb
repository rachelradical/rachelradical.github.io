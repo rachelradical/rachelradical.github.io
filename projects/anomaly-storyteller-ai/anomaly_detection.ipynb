import pandas as pd
import numpy as np
import matplotlib.pyplot as plt
from scipy import stats

# Load the dataset
df = pd.read_csv('../data/barcode_scans.csv')

# Convert date column to datetime for easier analysis
df['date'] = pd.to_datetime(df['date'])

# Check the first few rows
df.head()
